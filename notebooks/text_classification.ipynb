{
 "cells": [
  {
   "cell_type": "code",
   "execution_count": 16,
   "id": "a8cdf291",
   "metadata": {},
   "outputs": [],
   "source": [
    "import pandas as pd\n",
    "\n",
    "\n"
   ]
  },
  {
   "cell_type": "code",
   "execution_count": 21,
   "id": "24ab81e0",
   "metadata": {},
   "outputs": [
    {
     "name": "stdout",
     "output_type": "stream",
     "text": [
      "Columns:\n",
      " Index(['Date received', 'Product', 'Sub-product', 'Issue', 'Sub-issue',\n",
      "       'Consumer complaint narrative', 'Company public response', 'Company',\n",
      "       'State', 'ZIP code', 'Tags', 'Consumer consent provided?',\n",
      "       'Submitted via', 'Date sent to company', 'Company response to consumer',\n",
      "       'Timely response?', 'Consumer disputed?', 'Complaint ID'],\n",
      "      dtype='object')\n",
      "\n",
      "Sample rows:\n",
      "   Date received                                            Product  \\\n",
      "0    2020-07-06  Credit reporting, credit repair services, or o...   \n",
      "1    2025-10-14  Credit reporting or other personal consumer re...   \n",
      "2    2025-10-10  Credit reporting or other personal consumer re...   \n",
      "3    2025-10-15  Credit reporting or other personal consumer re...   \n",
      "4    2025-10-16  Credit reporting or other personal consumer re...   \n",
      "\n",
      "        Sub-product                                 Issue  \\\n",
      "0  Credit reporting  Incorrect information on your report   \n",
      "1  Credit reporting  Incorrect information on your report   \n",
      "2  Credit reporting  Incorrect information on your report   \n",
      "3  Credit reporting  Incorrect information on your report   \n",
      "4  Credit reporting  Incorrect information on your report   \n",
      "\n",
      "                                           Sub-issue  \\\n",
      "0                Information belongs to someone else   \n",
      "1  Information is missing that should be on the r...   \n",
      "2                Information belongs to someone else   \n",
      "3                Information belongs to someone else   \n",
      "4                Information belongs to someone else   \n",
      "\n",
      "  Consumer complaint narrative  \\\n",
      "0                          NaN   \n",
      "1                          NaN   \n",
      "2                          NaN   \n",
      "3                          NaN   \n",
      "4                          NaN   \n",
      "\n",
      "                             Company public response  \\\n",
      "0  Company has responded to the consumer and the ...   \n",
      "1                                                NaN   \n",
      "2                                                NaN   \n",
      "3                                                NaN   \n",
      "4                                                NaN   \n",
      "\n",
      "                                  Company State ZIP code Tags  \\\n",
      "0     Experian Information Solutions Inc.    FL    346XX  NaN   \n",
      "1                           EQUIFAX, INC.    TX    75062  NaN   \n",
      "2                           EQUIFAX, INC.    GA    30341  NaN   \n",
      "3  TRANSUNION INTERMEDIATE HOLDINGS, INC.    TX    75287  NaN   \n",
      "4     Experian Information Solutions Inc.    NC    28379  NaN   \n",
      "\n",
      "  Consumer consent provided? Submitted via Date sent to company  \\\n",
      "0                      Other           Web           2020-07-06   \n",
      "1                        NaN           Web           2025-10-14   \n",
      "2                        NaN           Web           2025-10-10   \n",
      "3                        NaN           Web           2025-10-15   \n",
      "4                        NaN           Web           2025-10-16   \n",
      "\n",
      "  Company response to consumer Timely response? Consumer disputed?  \\\n",
      "0      Closed with explanation              Yes                NaN   \n",
      "1                  In progress              Yes                NaN   \n",
      "2                  In progress              Yes                NaN   \n",
      "3                  In progress              Yes                NaN   \n",
      "4                  In progress              Yes                NaN   \n",
      "\n",
      "   Complaint ID  \n",
      "0       3730948  \n",
      "1      16558024  \n",
      "2      16507707  \n",
      "3      16593757  \n",
      "4      16623506  \n"
     ]
    }
   ],
   "source": [
    "# Use a smaller chunk to test\n",
    "file_path = r\"C:\\roshitha\\task5-consumer-complaints\\data\\consumer_complaints.csv\"   # adjust if path differs\n",
    "\n",
    "# Read only first 5 000 rows to check content\n",
    "df = pd.read_csv(file_path, nrows=5000)\n",
    "\n",
    "print(\"Columns:\\n\", df.columns)\n",
    "print(\"\\nSample rows:\\n\", df.head())"
   ]
  }
 ],
 "metadata": {
  "kernelspec": {
   "display_name": "venv (3.11.9)",
   "language": "python",
   "name": "python3"
  },
  "language_info": {
   "codemirror_mode": {
    "name": "ipython",
    "version": 3
   },
   "file_extension": ".py",
   "mimetype": "text/x-python",
   "name": "python",
   "nbconvert_exporter": "python",
   "pygments_lexer": "ipython3",
   "version": "3.11.9"
  }
 },
 "nbformat": 4,
 "nbformat_minor": 5
}
